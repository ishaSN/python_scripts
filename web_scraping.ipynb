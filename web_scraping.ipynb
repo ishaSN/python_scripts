{
 "cells": [
  {
   "cell_type": "code",
   "execution_count": 64,
   "id": "dcfc4166",
   "metadata": {},
   "outputs": [
    {
     "name": "stdout",
     "output_type": "stream",
     "text": [
      "Collecting autoscraper\n",
      "  Downloading autoscraper-1.1.12-py3-none-any.whl (10 kB)\n",
      "Requirement already satisfied: lxml in c:\\users\\isha\\anaconda3\\lib\\site-packages (from autoscraper) (4.6.3)\n",
      "Collecting bs4\n",
      "  Downloading bs4-0.0.1.tar.gz (1.1 kB)\n",
      "Requirement already satisfied: requests in c:\\users\\isha\\anaconda3\\lib\\site-packages (from autoscraper) (2.25.1)\n",
      "Requirement already satisfied: beautifulsoup4 in c:\\users\\isha\\anaconda3\\lib\\site-packages (from bs4->autoscraper) (4.9.3)\n",
      "Requirement already satisfied: soupsieve>1.2 in c:\\users\\isha\\anaconda3\\lib\\site-packages (from beautifulsoup4->bs4->autoscraper) (2.2.1)\n",
      "Requirement already satisfied: chardet<5,>=3.0.2 in c:\\users\\isha\\anaconda3\\lib\\site-packages (from requests->autoscraper) (4.0.0)\n",
      "Requirement already satisfied: certifi>=2017.4.17 in c:\\users\\isha\\anaconda3\\lib\\site-packages (from requests->autoscraper) (2020.12.5)\n",
      "Requirement already satisfied: urllib3<1.27,>=1.21.1 in c:\\users\\isha\\anaconda3\\lib\\site-packages (from requests->autoscraper) (1.26.4)\n",
      "Requirement already satisfied: idna<3,>=2.5 in c:\\users\\isha\\anaconda3\\lib\\site-packages (from requests->autoscraper) (2.10)\n",
      "Building wheels for collected packages: bs4\n",
      "  Building wheel for bs4 (setup.py): started\n",
      "  Building wheel for bs4 (setup.py): finished with status 'done'\n",
      "  Created wheel for bs4: filename=bs4-0.0.1-py3-none-any.whl size=1273 sha256=edf52d915413c19f9c12e09a33948673c4780eddb0d2d27e566c62d20d7e0554\n",
      "  Stored in directory: c:\\users\\isha\\appdata\\local\\pip\\cache\\wheels\\75\\78\\21\\68b124549c9bdc94f822c02fb9aa3578a669843f9767776bca\n",
      "Successfully built bs4\n",
      "Installing collected packages: bs4, autoscraper\n",
      "Successfully installed autoscraper-1.1.12 bs4-0.0.1\n",
      "Note: you may need to restart the kernel to use updated packages.\n"
     ]
    }
   ],
   "source": [
    "pip install autoscraper"
   ]
  },
  {
   "cell_type": "code",
   "execution_count": 66,
   "id": "7730c619",
   "metadata": {},
   "outputs": [],
   "source": [
    "from autoscraper import AutoScraper"
   ]
  },
  {
   "cell_type": "code",
   "execution_count": 109,
   "id": "94c51241",
   "metadata": {},
   "outputs": [],
   "source": [
    "linkedin_url=\"https://www.linkedin.com/mynetwork/invite-connect/connections\"\n",
    "wanted_list=[\"Member’s name\",\"Member’s occupation\"]"
   ]
  },
  {
   "cell_type": "code",
   "execution_count": 110,
   "id": "801d40ae",
   "metadata": {},
   "outputs": [
    {
     "name": "stdout",
     "output_type": "stream",
     "text": [
      "[]\n"
     ]
    }
   ],
   "source": [
    "scraper=AutoScraper()\n",
    "result=scraper.build(linkedin_url,wanted_list)\n",
    "print(result)"
   ]
  },
  {
   "cell_type": "code",
   "execution_count": 111,
   "id": "5409f0e2",
   "metadata": {},
   "outputs": [
    {
     "data": {
      "text/plain": [
       "{}"
      ]
     },
     "execution_count": 111,
     "metadata": {},
     "output_type": "execute_result"
    }
   ],
   "source": [
    "scraper.get_result_similar(linkedin_url,grouped=True)"
   ]
  },
  {
   "cell_type": "code",
   "execution_count": 98,
   "id": "2670ae8f",
   "metadata": {},
   "outputs": [],
   "source": [
    "scraper.set_rule_aliases({'rule_o1tn':'Tilte'})\n",
    "scraper.keep_rules(['rule_o1tn'])\n",
    "scraper.save('amazon-search')"
   ]
  },
  {
   "cell_type": "code",
   "execution_count": 99,
   "id": "b1f76f04",
   "metadata": {},
   "outputs": [
    {
     "data": {
      "text/plain": [
       "{'Tilte': ['Xiaomi 11i 5G (Stealth Black, 128 GB)',\n",
       "  'Xiaomi 11i 5G (Purple Mist, 128 GB)',\n",
       "  'Xiaomi 11i 5G (Purple Mist, 128 GB)',\n",
       "  'Xiaomi 11i 5G (Pacific Pearl, 128 GB)',\n",
       "  'Xiaomi 11i 5G (Stealth Black, 128 GB)',\n",
       "  'Redmi 9A Sport (Coral Green, 32 GB)',\n",
       "  'Redmi 9A (Midnight Black, 32 GB)',\n",
       "  'Redmi 9A (SeaBlue, 32 GB)',\n",
       "  'Redmi 9A (Nature Green, 32 GB)',\n",
       "  'Redmi 9A Sport (Metallic Blue, 32 GB)',\n",
       "  'Mi 3i 20000 mAh Power Bank (Fast Charging, 18W)',\n",
       "  'Redmi 9A (Midnight Black, 32 GB)',\n",
       "  'Redmi 9A Sport (Metallic Blue, 32 GB)',\n",
       "  'Xiaomi 11i 5G (Camo Green, 128 GB)',\n",
       "  'REDMI Note 11T 5G (Aquamarine Blue, 64 GB)',\n",
       "  'Redmi 9A Sport (Coral Green, 32 GB)',\n",
       "  'Redmi 9A Sport (Carbon Black, 32 GB)',\n",
       "  'REDMI NOTE 10 LITE (Glacier White, 128 GB)',\n",
       "  'Redmi 9A Sport (Carbon Black, 32 GB)',\n",
       "  'Xiaomi 11i Hypercharge 5G (Camo Green, 128 GB)',\n",
       "  'Xiaomi 11i Hypercharge 5G (Stealth Black, 128 GB)',\n",
       "  'Mi 3i 10000 mAh Power Bank (Fast Charging, 18W)',\n",
       "  'Redmi 9 (Sporty Orange, 64 GB)',\n",
       "  'Xiaomi 11i Hypercharge 5G (Purple Mist, 128 GB)',\n",
       "  'REDMI Note 11T 5G (Matte black, 128 GB)',\n",
       "  'Xiaomi 11i Hypercharge 5G (Purple Mist, 128 GB)',\n",
       "  'Mi 11 Lite (Vinyl Black, 128 GB)',\n",
       "  'MI 11X 5G (LUNAR WHITE, 128 GB)',\n",
       "  'Redmi 9A (Nature Green, 32 GB)',\n",
       "  'Mi 10T Pro (Cosmic Black, 128 GB)',\n",
       "  'Xiaomi 11Lite NE (Vinyl Black, 128 GB)',\n",
       "  'Redmi 9A (Sea Blue, 32 GB)',\n",
       "  'Mi 3i 10000 mAh Power Bank (Fast Charging, 18W)',\n",
       "  'Redmi 7A (Matte Gold, 32 GB)',\n",
       "  'Xiaomi 11Lite NE (Vinyl Black, 128 GB)',\n",
       "  'Xiaomi 11Lite NE (Diamond Dazzle, 128 GB)',\n",
       "  'MI 11X 5G (CELESTIAL SILVER, 128 GB)',\n",
       "  'REDMI Note 11T 5G (Matte black, 128 GB)',\n",
       "  'REDMI Note 11T 5G (Aquamarine Blue, 128 GB)',\n",
       "  'REDMI Note 11T 5G (Aquamarine Blue, 128 GB)']}"
      ]
     },
     "execution_count": 99,
     "metadata": {},
     "output_type": "execute_result"
    }
   ],
   "source": [
    "scraper.get_result_similar('https://www.flipkart.com/search?q=mi',group_by_alias=True)"
   ]
  },
  {
   "cell_type": "code",
   "execution_count": null,
   "id": "feb29c0d",
   "metadata": {},
   "outputs": [],
   "source": []
  }
 ],
 "metadata": {
  "kernelspec": {
   "display_name": "Python 3",
   "language": "python",
   "name": "python3"
  },
  "language_info": {
   "codemirror_mode": {
    "name": "ipython",
    "version": 3
   },
   "file_extension": ".py",
   "mimetype": "text/x-python",
   "name": "python",
   "nbconvert_exporter": "python",
   "pygments_lexer": "ipython3",
   "version": "3.8.8"
  }
 },
 "nbformat": 4,
 "nbformat_minor": 5
}
