{
 "cells": [
  {
   "cell_type": "code",
   "execution_count": 5,
   "id": "90ac9da0",
   "metadata": {},
   "outputs": [],
   "source": [
    "#Importing required libraries\n",
    "\n",
    "import pandas as pd\n",
    "import glob, os\n",
    "import re\n"
   ]
  },
  {
   "cell_type": "code",
   "execution_count": 11,
   "id": "a630e8ad",
   "metadata": {},
   "outputs": [
    {
     "name": "stderr",
     "output_type": "stream",
     "text": [
      "C:\\Users\\isha\\anaconda3\\lib\\site-packages\\PyPDF2\\_reader.py:1144: PdfReadWarning: Superfluous whitespace found in object header b'5' b'0'\n",
      "  warnings.warn(\n",
      "C:\\Users\\isha\\anaconda3\\lib\\site-packages\\PyPDF2\\_reader.py:1144: PdfReadWarning: Superfluous whitespace found in object header b'8' b'0'\n",
      "  warnings.warn(\n",
      "C:\\Users\\isha\\anaconda3\\lib\\site-packages\\PyPDF2\\_reader.py:1144: PdfReadWarning: Superfluous whitespace found in object header b'11' b'0'\n",
      "  warnings.warn(\n",
      "C:\\Users\\isha\\anaconda3\\lib\\site-packages\\PyPDF2\\_reader.py:1144: PdfReadWarning: Superfluous whitespace found in object header b'14' b'0'\n",
      "  warnings.warn(\n"
     ]
    }
   ],
   "source": [
    "from PyPDF2 import PdfFileMerger\n",
    "\n",
    "#Create an instance of PdfFileMerger() class\n",
    "merger = PdfFileMerger()\n",
    "\n",
    "#Create a list with the file paths\n",
    "pdf_files = ['C:/Users/isha/Downloads/Python Course with Notes/0Introduction/Chapter0.pdf', 'C:/Users/isha/Downloads/Python Course with Notes/1Chapter1/Chapter1Python.pdf',\n",
    "            'C:/Users/isha/Downloads/Python Course with Notes/3Chapter3/Chapter 3.pdf',\n",
    "            'C:/Users/isha/Downloads/Python Course with Notes/4Chapter4/Chapter 4.pdf',\n",
    "            'C:/Users/isha/Downloads/Python Course with Notes/5Chapter5/Chapter 5.pdf',\n",
    "            'C:/Users/isha/Downloads/Python Course with Notes/6Chapter6/Chapter 6.pdf',\n",
    "            'C:/Users/isha/Downloads/Python Course with Notes/7Chapter7/Chapter 7.pdf',\n",
    "            'C:/Users/isha/Downloads/Python Course with Notes/8Chapter8/Chapter 8.pdf',\n",
    "            'C:/Users/isha/Downloads/Python Course with Notes/9Chapter9/Chapter 9.pdf',\n",
    "            'C:/Users/isha/Downloads/Python Course with Notes/10Chapter10/Chapter 10 - Oops.pdf',\n",
    "            'C:/Users/isha/Downloads/Python Course with Notes/11Chapter11/Chapter 11.pdf',\n",
    "            'C:/Users/isha/Downloads/Python Course with Notes/12Chapter12/Chapter 12 - Advanced Python 1.pdf',\n",
    "            'C:/Users/isha/Downloads/Python Course with Notes/13Chapter13/Chapter 13 - Advanced Python 2.pdf']\n",
    "\n",
    "#Iterate over the list of the file paths\n",
    "for pdf_file in pdf_files:\n",
    "    #Append PDF files\n",
    "    merger.append(pdf_file)\n",
    "\n",
    "#Write out the merged PDF file\n",
    "merger.write(\"full_book.pdf\")\n",
    "merger.close()"
   ]
  },
  {
   "cell_type": "code",
   "execution_count": null,
   "id": "24afa328",
   "metadata": {},
   "outputs": [],
   "source": []
  }
 ],
 "metadata": {
  "kernelspec": {
   "display_name": "Python 3",
   "language": "python",
   "name": "python3"
  },
  "language_info": {
   "codemirror_mode": {
    "name": "ipython",
    "version": 3
   },
   "file_extension": ".py",
   "mimetype": "text/x-python",
   "name": "python",
   "nbconvert_exporter": "python",
   "pygments_lexer": "ipython3",
   "version": "3.8.8"
  }
 },
 "nbformat": 4,
 "nbformat_minor": 5
}
